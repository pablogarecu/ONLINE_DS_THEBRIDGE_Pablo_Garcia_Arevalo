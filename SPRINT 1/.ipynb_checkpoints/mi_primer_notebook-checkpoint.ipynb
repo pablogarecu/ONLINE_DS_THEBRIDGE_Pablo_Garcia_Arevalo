{
 "cells": [
  {
   "cell_type": "code",
   "execution_count": 1,
   "id": "e3952cb4-8e3d-4b60-ad4e-08529278fe66",
   "metadata": {},
   "outputs": [
    {
     "name": "stdout",
     "output_type": "stream",
     "text": [
      "Hola Mundo\n"
     ]
    }
   ],
   "source": [
    "print(\"Hola Mundo\")"
   ]
  },
  {
   "cell_type": "markdown",
   "id": "c087d957-27a2-40a7-a923-3f051286fb00",
   "metadata": {},
   "source": [
    "Hola Mundo"
   ]
  },
  {
   "cell_type": "code",
   "execution_count": null,
   "id": "7146b535-c9f9-4c7a-a23f-538b323a8827",
   "metadata": {},
   "outputs": [],
   "source": []
  }
 ],
 "metadata": {
  "kernelspec": {
   "display_name": "Python 3 (ipykernel)",
   "language": "python",
   "name": "python3"
  },
  "language_info": {
   "codemirror_mode": {
    "name": "ipython",
    "version": 3
   },
   "file_extension": ".py",
   "mimetype": "text/x-python",
   "name": "python",
   "nbconvert_exporter": "python",
   "pygments_lexer": "ipython3",
   "version": "3.12.0"
  }
 },
 "nbformat": 4,
 "nbformat_minor": 5
}
